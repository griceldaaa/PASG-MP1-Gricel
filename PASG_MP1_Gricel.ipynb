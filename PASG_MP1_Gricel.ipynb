{
  "cells": [
    {
      "cell_type": "code",
      "execution_count": 1,
      "metadata": {
        "colab": {
          "base_uri": "https://localhost:8080/"
        },
        "id": "V6g8mYB3wIF-",
        "outputId": "ec0d981d-60ba-40b8-9338-bd06d7735ccc"
      },
      "outputs": [
        {
          "output_type": "stream",
          "name": "stdout",
          "text": [
            "Requirement already satisfied: pandas in /usr/local/lib/python3.11/dist-packages (2.2.2)\n",
            "Requirement already satisfied: numpy>=1.23.2 in /usr/local/lib/python3.11/dist-packages (from pandas) (2.0.2)\n",
            "Requirement already satisfied: python-dateutil>=2.8.2 in /usr/local/lib/python3.11/dist-packages (from pandas) (2.9.0.post0)\n",
            "Requirement already satisfied: pytz>=2020.1 in /usr/local/lib/python3.11/dist-packages (from pandas) (2025.2)\n",
            "Requirement already satisfied: tzdata>=2022.7 in /usr/local/lib/python3.11/dist-packages (from pandas) (2025.2)\n",
            "Requirement already satisfied: six>=1.5 in /usr/local/lib/python3.11/dist-packages (from python-dateutil>=2.8.2->pandas) (1.17.0)\n"
          ]
        }
      ],
      "source": [
        "# Menginstal library pandas jika belum terinstal, digunakan untuk mengelola data\n",
        "!pip install pandas"
      ]
    },
    {
      "cell_type": "code",
      "execution_count": 2,
      "metadata": {
        "id": "AWzOBebswqrr"
      },
      "outputs": [],
      "source": [
        "# Mengimpor library pandas dan memberinya alias 'pd' agar lebih singkat saat digunakan\n",
        "import pandas as pd"
      ]
    },
    {
      "cell_type": "code",
      "execution_count": 3,
      "metadata": {
        "colab": {
          "base_uri": "https://localhost:8080/"
        },
        "id": "5N2P3UCzz5Ho",
        "outputId": "8acb3954-4b44-4484-a36d-bbc524b279b9"
      },
      "outputs": [
        {
          "output_type": "stream",
          "name": "stdout",
          "text": [
            "Mounted at /content/drive\n"
          ]
        }
      ],
      "source": [
        "# Mengimpor fungsi dari Google Colab untuk menghubungkan ke Google Drive\n",
        "from google.colab import drive\n",
        "import os\n",
        "\n",
        "# Menghubungkan Google Drive ke Google Colab sehingga file di Drive bisa diakses\n",
        "drive.mount('/content/drive')"
      ]
    },
    {
      "cell_type": "code",
      "execution_count": 4,
      "metadata": {
        "colab": {
          "base_uri": "https://localhost:8080/"
        },
        "id": "N2u-GbTl0Gvb",
        "outputId": "cdd7a00d-427a-4fcf-a6ee-9fcaa5838914"
      },
      "outputs": [
        {
          "output_type": "stream",
          "name": "stdout",
          "text": [
            "bahan  latih  validasi\n"
          ]
        }
      ],
      "source": [
        "# Menyimpan lokasi folder di Google Drive ke dalam variabel 'base_dir'\n",
        "base_dir = '/content/drive/MyDrive/vegetables'\n",
        "\n",
        "# Menampilkan daftar file dan folder yang ada di dalam folder 'PTS MP1'\n",
        "!ls \"/content/drive/MyDrive/vegetables\""
      ]
    },
    {
      "cell_type": "code",
      "execution_count": 5,
      "metadata": {
        "id": "JDE8Y6js0fzG"
      },
      "outputs": [],
      "source": [
        "# Menyimpan lokasi folder 'bahan' yang berisi data bahan ke variabel 'bahan_dir'\n",
        "bahan_dir = os.path.join(base_dir, 'bahan')\n",
        "\n",
        "# Menyimpan lokasi folder 'latih' yang berisi data pelatihan ke variabel 'train_dir'\n",
        "train_dir = os.path.join(base_dir, 'latih')\n",
        "\n",
        "# Menyimpan lokasi folder 'validasi' yang berisi data validasi ke variabel 'validation_dir'\n",
        "validation_dir = os.path.join(base_dir, 'validasi')"
      ]
    },
    {
      "cell_type": "code",
      "execution_count": 6,
      "metadata": {
        "colab": {
          "base_uri": "https://localhost:8080/"
        },
        "id": "SxMz1OMy0j6d",
        "outputId": "42e46186-2f08-4426-e2f9-889a50909cb0"
      },
      "outputs": [
        {
          "output_type": "stream",
          "name": "stdout",
          "text": [
            "Jumlah Data Train Tiap Kelas\n",
            "Jumlah gambar Cabbage : 139\n",
            "Jumlah gambar Broccoli : 200\n",
            "Jumlah gambar Brinjal : 200\n",
            "Jumlah gambar Bean : 200\n"
          ]
        }
      ],
      "source": [
        "# Menyimpan lokasi folder 'Cabbage' di dalam folder 'bahan' ke variabel 'baby_dir'\n",
        "Cabbage_dir = os.path.join(bahan_dir, 'Cabbage/')\n",
        "\n",
        "# Menyimpan lokasi folder 'Broccoli' di dalam folder 'bahan' ke variabel 'adult_dir'\n",
        "Broccoli_dir = os.path.join(bahan_dir, 'Broccoli/')\n",
        "\n",
        "# Menyimpan lokasi folder 'Brinjal' di dalam folder 'bahan' ke variabel 'adult_dir'\n",
        "Brinjal_dir = os.path.join(bahan_dir, 'Brinjal/')\n",
        "\n",
        "# Menyimpan lokasi folder 'Bean' di dalam folder 'bahan' ke variabel 'adult_dir'\n",
        "Bean_dir = os.path.join(bahan_dir, 'Bean/')\n",
        "\n",
        "# Menampilkan jumlah gambar yang ada di folder 'Cabbage', 'Broccoli', 'Brinjal', 'Bean'\n",
        "print(\"Jumlah Data Train Tiap Kelas\")\n",
        "print('Jumlah gambar Cabbage :', len(os.listdir(Cabbage_dir)))\n",
        "print('Jumlah gambar Broccoli :', len(os.listdir(Broccoli_dir)))\n",
        "print('Jumlah gambar Brinjal :', len(os.listdir(Brinjal_dir)))\n",
        "print('Jumlah gambar Bean :', len(os.listdir(Bean_dir)))"
      ]
    },
    {
      "cell_type": "code",
      "execution_count": 7,
      "metadata": {
        "id": "p9VyRUOe4lug"
      },
      "outputs": [],
      "source": [
        "# Menyimpan lokasi folder 'Cabbage' dalam data latih (train) ke variabel 'train_Cabbage'\n",
        "train_Cabbage = os.path.join(train_dir, 'Cabbage/')\n",
        "\n",
        "# Menyimpan lokasi folder 'Broccoli' dalam data latih (train) ke variabel 'train_Broccoli'\n",
        "train_Broccoli = os.path.join(train_dir, 'Broccoli/')\n",
        "\n",
        "# Menyimpan lokasi folder 'Brinjal' dalam data latih (train) ke variabel 'train_Brinjal'\n",
        "train_Brinjal = os.path.join(train_dir, 'Brinjal/')\n",
        "\n",
        "# Menyimpan lokasi folder 'Bean' dalam data latih (train) ke variabel 'train_Bean'\n",
        "train_Bean = os.path.join(train_dir, 'Bean/')\n",
        "\n",
        "# Menyimpan lokasi folder 'Cabbage' dalam data validasi ke variabel 'validation_Cabbage'\n",
        "validation_Cabbage = os.path.join(validation_dir, 'Cabbage/')\n",
        "\n",
        "# Menyimpan lokasi folder 'Broccoli' dalam data validasi ke variabel 'validation_Broccoli'\n",
        "validation_Broccoli = os.path.join(validation_dir, 'Broccoli/')\n",
        "\n",
        "# Menyimpan lokasi folder 'Brinjal' dalam data validasi ke variabel 'validation_Brinjal'\n",
        "validation_Brinjal = os.path.join(validation_dir, 'Brinjal/')\n",
        "\n",
        "# Menyimpan lokasi folder 'Bean' dalam data validasi ke variabel 'validation_Bean'\n",
        "validation_Bean = os.path.join(validation_dir, 'Bean/')"
      ]
    },
    {
      "cell_type": "code",
      "execution_count": 8,
      "metadata": {
        "colab": {
          "base_uri": "https://localhost:8080/"
        },
        "id": "zeNL8HeE6HV8",
        "outputId": "a697158d-6b49-4d61-87ce-dcb98ddabd24"
      },
      "outputs": [
        {
          "output_type": "stream",
          "name": "stdout",
          "text": [
            "Total size: 139\n",
            "Total size: 200\n",
            "Total size: 200\n",
            "Total size: 200\n"
          ]
        }
      ],
      "source": [
        "# Mengimpor modul yang diperlukan: random, os, dan copyfile untuk memindahkan file\n",
        "import random\n",
        "import os\n",
        "from shutil import copyfile\n",
        "\n",
        "# Fungsi untuk membagi data menjadi data latih dan validasi secara acak\n",
        "def train_val_split(source, train, val, train_ratio):\n",
        "    # Menghitung total jumlah file di folder sumber\n",
        "    total_size = len(os.listdir(source))\n",
        "    print(f'Total size: {total_size}')\n",
        "\n",
        "    # Menentukan jumlah file untuk data latih berdasarkan rasio yang ditentukan\n",
        "    train_size = int(train_ratio * total_size)\n",
        "    val_size = total_size - train_size\n",
        "\n",
        "    # Mengacak urutan file di folder sumber\n",
        "    randomized = random.sample(os.listdir(source), total_size)\n",
        "    # Memisahkan file untuk data latih dan validasi\n",
        "    train_files = randomized[:train_size]\n",
        "    val_files = randomized[train_size:]\n",
        "\n",
        "    # Membuat folder untuk data latih dan validasi jika belum ada\n",
        "    os.makedirs(train, exist_ok=True)\n",
        "    os.makedirs(val, exist_ok=True)\n",
        "\n",
        "    # Membersihkan folder data latih dan validasi dari file sebelumnya\n",
        "    clear_folder(train)\n",
        "    clear_folder(val)\n",
        "\n",
        "    # Menyalin file yang dipilih untuk data latih ke folder data latih\n",
        "    for i in train_files:\n",
        "        i_file = os.path.join(source, i)\n",
        "        destination = os.path.join(train, i)\n",
        "        if not os.path.exists(destination):\n",
        "            copyfile(i_file, destination)\n",
        "\n",
        "    # Menyalin file yang dipilih untuk data validasi ke folder data validasi\n",
        "    for i in val_files:\n",
        "        i_file = os.path.join(source, i)\n",
        "        destination = os.path.join(val, i)\n",
        "        if not os.path.exists(destination):\n",
        "            copyfile(i_file, destination)\n",
        "\n",
        "# Fungsi untuk menghapus semua file dalam folder tertentu\n",
        "def clear_folder(folder):\n",
        "    for file in os.listdir(folder):\n",
        "        file_path = os.path.join(folder, file)\n",
        "        if os.path.isfile(file_path):\n",
        "            os.remove(file_path)\n",
        "\n",
        "# Menentukan rasio data latih, misalnya 90% untuk data latih dan 10% untuk data validasi\n",
        "train_ratio = 0.9\n",
        "\n",
        "# Membagi data untuk kategori 'Cabbage'\n",
        "source_00 = Cabbage_dir\n",
        "train_00 = train_Cabbage\n",
        "val_00 = validation_Cabbage\n",
        "train_val_split(source_00, train_00, val_00, train_ratio)\n",
        "\n",
        "# Membagi data untuk kategori 'Broccoli'\n",
        "source_01 = Broccoli_dir\n",
        "train_01 = train_Broccoli\n",
        "val_01 = validation_Broccoli\n",
        "train_val_split(source_01, train_01, val_01, train_ratio)\n",
        "\n",
        "# Membagi data untuk kategori 'Brinjal'\n",
        "source_02 = Brinjal_dir\n",
        "train_02 = train_Brinjal\n",
        "val_02 = validation_Brinjal\n",
        "train_val_split(source_02, train_02, val_02, train_ratio)\n",
        "\n",
        "# Membagi data untuk kategori 'Bean'\n",
        "source_03 = Bean_dir\n",
        "train_03 = train_Bean\n",
        "val_03 = validation_Bean\n",
        "train_val_split(source_03, train_03, val_03, train_ratio)"
      ]
    },
    {
      "cell_type": "code",
      "execution_count": 9,
      "metadata": {
        "colab": {
          "base_uri": "https://localhost:8080/"
        },
        "id": "a0M9Shn37HKZ",
        "outputId": "8349c551-a4f9-4716-a44f-41aca2f0974c"
      },
      "outputs": [
        {
          "output_type": "stream",
          "name": "stdout",
          "text": [
            "Jumlah All Cabbage   : 139\n",
            "Jumlah Train Cabbage : 125\n",
            "Jumlah Val Cabbage   : 14\n"
          ]
        }
      ],
      "source": [
        "# Menampilkan jumlah total gambar 'Cabbage', data latih 'Cabbage', dan data validasi 'Cabbage'\n",
        "print('Jumlah All Cabbage   :', len(os.listdir(Cabbage_dir)))\n",
        "print('Jumlah Train Cabbage :', len(os.listdir(train_Cabbage)))\n",
        "print('Jumlah Val Cabbage   :', len(os.listdir(validation_Cabbage)))"
      ]
    },
    {
      "cell_type": "code",
      "execution_count": 10,
      "metadata": {
        "id": "_lT4c-hv8QLS"
      },
      "outputs": [],
      "source": [
        "# Mengimpor TensorFlow untuk membangun dan melatih model machine learning\n",
        "import tensorflow as tf\n",
        "\n",
        "# Mengimpor optimizer Adam yang akan digunakan untuk melatih model\n",
        "from tensorflow.keras.optimizers import Adam\n",
        "\n",
        "# Mengimpor ImageDataGenerator untuk augmentasi gambar dan persiapan data gambar\n",
        "from tensorflow.keras.preprocessing.image import ImageDataGenerator"
      ]
    },
    {
      "cell_type": "code",
      "execution_count": 11,
      "metadata": {
        "id": "bDh52qSu8oWY"
      },
      "outputs": [],
      "source": [
        "# Membuat augmentasi data latih dengan berbagai transformasi untuk memperkaya data\n",
        "train_datagen = ImageDataGenerator(\n",
        "                    rescale= 1./255,              # Mengubah skala piksel gambar menjadi 0-1\n",
        "                    rotation_range= 30,            # Memutar gambar secara acak hingga 30 derajat\n",
        "                    horizontal_flip= True,         # Membalik gambar secara horizontal\n",
        "                    shear_range = 0.3,             # Menggeser bagian gambar secara acak\n",
        "                    fill_mode = 'nearest',         # Mengisi area kosong setelah transformasi\n",
        "                    width_shift_range = 0.2,       # Menggeser gambar secara horizontal\n",
        "                    height_shift_range = 0.2,      # Menggeser gambar secara vertikal\n",
        "                    zoom_range = 0.1               # Memperbesar gambar secara acak\n",
        ")\n",
        "\n",
        "# Membuat augmentasi data validasi dengan pengaturan yang sama untuk konsistensi\n",
        "val_datagen = ImageDataGenerator(\n",
        "                    rescale= 1./255,              # Mengubah skala piksel gambar menjadi 0-1\n",
        "                    rotation_range= 30,            # Memutar gambar secara acak hingga 30 derajat\n",
        "                    horizontal_flip= True,         # Membalik gambar secara horizontal\n",
        "                    shear_range = 0.3,             # Menggeser bagian gambar secara acak\n",
        "                    fill_mode = 'nearest',         # Mengisi area kosong setelah transformasi\n",
        "                    width_shift_range = 0.2,       # Menggeser gambar secara horizontal\n",
        "                    height_shift_range = 0.2,      # Menggeser gambar secara vertikal\n",
        "                    zoom_range = 0.1               # Memperbesar gambar secara acak\n",
        ")"
      ]
    },
    {
      "cell_type": "code",
      "execution_count": 12,
      "metadata": {
        "colab": {
          "base_uri": "https://localhost:8080/"
        },
        "id": "Lww_HaAX8rJt",
        "outputId": "1aca557f-131d-4c25-bf7c-9f6ee37f6287"
      },
      "outputs": [
        {
          "output_type": "stream",
          "name": "stdout",
          "text": [
            "Found 665 images belonging to 4 classes.\n",
            "Found 74 images belonging to 4 classes.\n"
          ]
        }
      ],
      "source": [
        "# Menghasilkan data latih dari direktori dengan augmentasi yang sudah dibuat\n",
        "train_generator = train_datagen.flow_from_directory(\n",
        "        train_dir,                 # Direktori untuk data latih\n",
        "        target_size = (150, 150),   # Mengubah ukuran gambar menjadi 150x150 piksel\n",
        "        batch_size = 10,            # Jumlah gambar yang diproses dalam satu batch\n",
        "        class_mode = 'categorical'  # Mode klasifikasi untuk beberapa kelas\n",
        ")\n",
        "\n",
        "# Menghasilkan data validasi dari direktori dengan augmentasi yang sudah dibuat\n",
        "val_generator = val_datagen.flow_from_directory(\n",
        "        validation_dir,            # Direktori untuk data validasi\n",
        "        target_size = (150, 150),  # Mengubah ukuran gambar menjadi 150x150 piksel\n",
        "        batch_size = 10,           # Jumlah gambar yang diproses dalam satu batch\n",
        "        class_mode = 'categorical' # Mode klasifikasi untuk beberapa kelas\n",
        ")"
      ]
    },
    {
      "cell_type": "code",
      "execution_count": 13,
      "metadata": {
        "id": "JzGLMB_W8wM4"
      },
      "outputs": [],
      "source": [
        "# Membuat class callback untuk menghentikan pelatihan jika akurasi mencapai 99%\n",
        "class myCallback(tf.keras.callbacks.Callback):\n",
        "  def on_epoch_end(self, epoch, logs = {}):\n",
        "    if(logs.get('accuracy') > 0.99):   # Mengecek apakah akurasi lebih dari 99%\n",
        "      print('\\nAkurasi mencapai 99%')  # Memberi tahu jika akurasi tercapai\n",
        "      self.model.stop_training = True  # Menghentikan pelatihan\n",
        "\n",
        "# Membuat instance dari callback yang akan digunakan saat pelatihan model\n",
        "callback = myCallback()"
      ]
    },
    {
      "cell_type": "code",
      "execution_count": 14,
      "metadata": {
        "colab": {
          "base_uri": "https://localhost:8080/"
        },
        "id": "L3vvWPx9805a",
        "outputId": "a749e3db-d2da-47b5-a312-e7b9557680a3"
      },
      "outputs": [
        {
          "output_type": "stream",
          "name": "stderr",
          "text": [
            "/usr/local/lib/python3.11/dist-packages/keras/src/layers/convolutional/base_conv.py:107: UserWarning: Do not pass an `input_shape`/`input_dim` argument to a layer. When using Sequential models, prefer using an `Input(shape)` object as the first layer in the model instead.\n",
            "  super().__init__(activity_regularizer=activity_regularizer, **kwargs)\n"
          ]
        }
      ],
      "source": [
        "# Membuat model Sequential dengan beberapa lapisan untuk klasifikasi gambar\n",
        "model = tf.keras.models.Sequential([\n",
        "    # Lapisan Convolutional pertama\n",
        "    tf.keras.layers.Conv2D(16, (3,3), activation='relu', input_shape=(150, 150, 3)),\n",
        "    tf.keras.layers.MaxPooling2D(2,2),\n",
        "\n",
        "    # Lapisan Convolutional kedua\n",
        "    tf.keras.layers.Conv2D(32, (3,3), activation='relu'),\n",
        "    tf.keras.layers.MaxPooling2D(2,2),\n",
        "\n",
        "    # Lapisan Convolutional ketiga\n",
        "    tf.keras.layers.Conv2D(64, (3,3), activation='relu'),\n",
        "    tf.keras.layers.MaxPooling2D(2,2),\n",
        "\n",
        "    # Flatten\n",
        "    tf.keras.layers.Flatten(),\n",
        "\n",
        "    # Dense 200\n",
        "    tf.keras.layers.Dense(200, activation='relu'),\n",
        "\n",
        "    # Dropout 30%\n",
        "    tf.keras.layers.Dropout(0.3, seed=112),\n",
        "\n",
        "    # Dense 500\n",
        "    tf.keras.layers.Dense(500, activation='relu'),\n",
        "\n",
        "    # Dropout 50%\n",
        "    tf.keras.layers.Dropout(0.5, seed=112),\n",
        "\n",
        "    # Lapisan output untuk 4 kelas\n",
        "    tf.keras.layers.Dense(4, activation='softmax')\n",
        "])"
      ]
    },
    {
      "cell_type": "code",
      "execution_count": 15,
      "metadata": {
        "colab": {
          "base_uri": "https://localhost:8080/",
          "height": 513
        },
        "id": "NFQ-9qvS84n_",
        "outputId": "c85c4094-e28e-405f-d509-c5df26447d33"
      },
      "outputs": [
        {
          "output_type": "display_data",
          "data": {
            "text/plain": [
              "\u001b[1mModel: \"sequential\"\u001b[0m\n"
            ],
            "text/html": [
              "<pre style=\"white-space:pre;overflow-x:auto;line-height:normal;font-family:Menlo,'DejaVu Sans Mono',consolas,'Courier New',monospace\"><span style=\"font-weight: bold\">Model: \"sequential\"</span>\n",
              "</pre>\n"
            ]
          },
          "metadata": {}
        },
        {
          "output_type": "display_data",
          "data": {
            "text/plain": [
              "┏━━━━━━━━━━━━━━━━━━━━━━━━━━━━━━━━━┳━━━━━━━━━━━━━━━━━━━━━━━━┳━━━━━━━━━━━━━━━┓\n",
              "┃\u001b[1m \u001b[0m\u001b[1mLayer (type)                   \u001b[0m\u001b[1m \u001b[0m┃\u001b[1m \u001b[0m\u001b[1mOutput Shape          \u001b[0m\u001b[1m \u001b[0m┃\u001b[1m \u001b[0m\u001b[1m      Param #\u001b[0m\u001b[1m \u001b[0m┃\n",
              "┡━━━━━━━━━━━━━━━━━━━━━━━━━━━━━━━━━╇━━━━━━━━━━━━━━━━━━━━━━━━╇━━━━━━━━━━━━━━━┩\n",
              "│ conv2d (\u001b[38;5;33mConv2D\u001b[0m)                 │ (\u001b[38;5;45mNone\u001b[0m, \u001b[38;5;34m148\u001b[0m, \u001b[38;5;34m148\u001b[0m, \u001b[38;5;34m16\u001b[0m)   │           \u001b[38;5;34m448\u001b[0m │\n",
              "├─────────────────────────────────┼────────────────────────┼───────────────┤\n",
              "│ max_pooling2d (\u001b[38;5;33mMaxPooling2D\u001b[0m)    │ (\u001b[38;5;45mNone\u001b[0m, \u001b[38;5;34m74\u001b[0m, \u001b[38;5;34m74\u001b[0m, \u001b[38;5;34m16\u001b[0m)     │             \u001b[38;5;34m0\u001b[0m │\n",
              "├─────────────────────────────────┼────────────────────────┼───────────────┤\n",
              "│ conv2d_1 (\u001b[38;5;33mConv2D\u001b[0m)               │ (\u001b[38;5;45mNone\u001b[0m, \u001b[38;5;34m72\u001b[0m, \u001b[38;5;34m72\u001b[0m, \u001b[38;5;34m32\u001b[0m)     │         \u001b[38;5;34m4,640\u001b[0m │\n",
              "├─────────────────────────────────┼────────────────────────┼───────────────┤\n",
              "│ max_pooling2d_1 (\u001b[38;5;33mMaxPooling2D\u001b[0m)  │ (\u001b[38;5;45mNone\u001b[0m, \u001b[38;5;34m36\u001b[0m, \u001b[38;5;34m36\u001b[0m, \u001b[38;5;34m32\u001b[0m)     │             \u001b[38;5;34m0\u001b[0m │\n",
              "├─────────────────────────────────┼────────────────────────┼───────────────┤\n",
              "│ conv2d_2 (\u001b[38;5;33mConv2D\u001b[0m)               │ (\u001b[38;5;45mNone\u001b[0m, \u001b[38;5;34m34\u001b[0m, \u001b[38;5;34m34\u001b[0m, \u001b[38;5;34m64\u001b[0m)     │        \u001b[38;5;34m18,496\u001b[0m │\n",
              "├─────────────────────────────────┼────────────────────────┼───────────────┤\n",
              "│ max_pooling2d_2 (\u001b[38;5;33mMaxPooling2D\u001b[0m)  │ (\u001b[38;5;45mNone\u001b[0m, \u001b[38;5;34m17\u001b[0m, \u001b[38;5;34m17\u001b[0m, \u001b[38;5;34m64\u001b[0m)     │             \u001b[38;5;34m0\u001b[0m │\n",
              "├─────────────────────────────────┼────────────────────────┼───────────────┤\n",
              "│ flatten (\u001b[38;5;33mFlatten\u001b[0m)               │ (\u001b[38;5;45mNone\u001b[0m, \u001b[38;5;34m18496\u001b[0m)          │             \u001b[38;5;34m0\u001b[0m │\n",
              "├─────────────────────────────────┼────────────────────────┼───────────────┤\n",
              "│ dense (\u001b[38;5;33mDense\u001b[0m)                   │ (\u001b[38;5;45mNone\u001b[0m, \u001b[38;5;34m200\u001b[0m)            │     \u001b[38;5;34m3,699,400\u001b[0m │\n",
              "├─────────────────────────────────┼────────────────────────┼───────────────┤\n",
              "│ dropout (\u001b[38;5;33mDropout\u001b[0m)               │ (\u001b[38;5;45mNone\u001b[0m, \u001b[38;5;34m200\u001b[0m)            │             \u001b[38;5;34m0\u001b[0m │\n",
              "├─────────────────────────────────┼────────────────────────┼───────────────┤\n",
              "│ dense_1 (\u001b[38;5;33mDense\u001b[0m)                 │ (\u001b[38;5;45mNone\u001b[0m, \u001b[38;5;34m500\u001b[0m)            │       \u001b[38;5;34m100,500\u001b[0m │\n",
              "├─────────────────────────────────┼────────────────────────┼───────────────┤\n",
              "│ dropout_1 (\u001b[38;5;33mDropout\u001b[0m)             │ (\u001b[38;5;45mNone\u001b[0m, \u001b[38;5;34m500\u001b[0m)            │             \u001b[38;5;34m0\u001b[0m │\n",
              "├─────────────────────────────────┼────────────────────────┼───────────────┤\n",
              "│ dense_2 (\u001b[38;5;33mDense\u001b[0m)                 │ (\u001b[38;5;45mNone\u001b[0m, \u001b[38;5;34m4\u001b[0m)              │         \u001b[38;5;34m2,004\u001b[0m │\n",
              "└─────────────────────────────────┴────────────────────────┴───────────────┘\n"
            ],
            "text/html": [
              "<pre style=\"white-space:pre;overflow-x:auto;line-height:normal;font-family:Menlo,'DejaVu Sans Mono',consolas,'Courier New',monospace\">┏━━━━━━━━━━━━━━━━━━━━━━━━━━━━━━━━━┳━━━━━━━━━━━━━━━━━━━━━━━━┳━━━━━━━━━━━━━━━┓\n",
              "┃<span style=\"font-weight: bold\"> Layer (type)                    </span>┃<span style=\"font-weight: bold\"> Output Shape           </span>┃<span style=\"font-weight: bold\">       Param # </span>┃\n",
              "┡━━━━━━━━━━━━━━━━━━━━━━━━━━━━━━━━━╇━━━━━━━━━━━━━━━━━━━━━━━━╇━━━━━━━━━━━━━━━┩\n",
              "│ conv2d (<span style=\"color: #0087ff; text-decoration-color: #0087ff\">Conv2D</span>)                 │ (<span style=\"color: #00d7ff; text-decoration-color: #00d7ff\">None</span>, <span style=\"color: #00af00; text-decoration-color: #00af00\">148</span>, <span style=\"color: #00af00; text-decoration-color: #00af00\">148</span>, <span style=\"color: #00af00; text-decoration-color: #00af00\">16</span>)   │           <span style=\"color: #00af00; text-decoration-color: #00af00\">448</span> │\n",
              "├─────────────────────────────────┼────────────────────────┼───────────────┤\n",
              "│ max_pooling2d (<span style=\"color: #0087ff; text-decoration-color: #0087ff\">MaxPooling2D</span>)    │ (<span style=\"color: #00d7ff; text-decoration-color: #00d7ff\">None</span>, <span style=\"color: #00af00; text-decoration-color: #00af00\">74</span>, <span style=\"color: #00af00; text-decoration-color: #00af00\">74</span>, <span style=\"color: #00af00; text-decoration-color: #00af00\">16</span>)     │             <span style=\"color: #00af00; text-decoration-color: #00af00\">0</span> │\n",
              "├─────────────────────────────────┼────────────────────────┼───────────────┤\n",
              "│ conv2d_1 (<span style=\"color: #0087ff; text-decoration-color: #0087ff\">Conv2D</span>)               │ (<span style=\"color: #00d7ff; text-decoration-color: #00d7ff\">None</span>, <span style=\"color: #00af00; text-decoration-color: #00af00\">72</span>, <span style=\"color: #00af00; text-decoration-color: #00af00\">72</span>, <span style=\"color: #00af00; text-decoration-color: #00af00\">32</span>)     │         <span style=\"color: #00af00; text-decoration-color: #00af00\">4,640</span> │\n",
              "├─────────────────────────────────┼────────────────────────┼───────────────┤\n",
              "│ max_pooling2d_1 (<span style=\"color: #0087ff; text-decoration-color: #0087ff\">MaxPooling2D</span>)  │ (<span style=\"color: #00d7ff; text-decoration-color: #00d7ff\">None</span>, <span style=\"color: #00af00; text-decoration-color: #00af00\">36</span>, <span style=\"color: #00af00; text-decoration-color: #00af00\">36</span>, <span style=\"color: #00af00; text-decoration-color: #00af00\">32</span>)     │             <span style=\"color: #00af00; text-decoration-color: #00af00\">0</span> │\n",
              "├─────────────────────────────────┼────────────────────────┼───────────────┤\n",
              "│ conv2d_2 (<span style=\"color: #0087ff; text-decoration-color: #0087ff\">Conv2D</span>)               │ (<span style=\"color: #00d7ff; text-decoration-color: #00d7ff\">None</span>, <span style=\"color: #00af00; text-decoration-color: #00af00\">34</span>, <span style=\"color: #00af00; text-decoration-color: #00af00\">34</span>, <span style=\"color: #00af00; text-decoration-color: #00af00\">64</span>)     │        <span style=\"color: #00af00; text-decoration-color: #00af00\">18,496</span> │\n",
              "├─────────────────────────────────┼────────────────────────┼───────────────┤\n",
              "│ max_pooling2d_2 (<span style=\"color: #0087ff; text-decoration-color: #0087ff\">MaxPooling2D</span>)  │ (<span style=\"color: #00d7ff; text-decoration-color: #00d7ff\">None</span>, <span style=\"color: #00af00; text-decoration-color: #00af00\">17</span>, <span style=\"color: #00af00; text-decoration-color: #00af00\">17</span>, <span style=\"color: #00af00; text-decoration-color: #00af00\">64</span>)     │             <span style=\"color: #00af00; text-decoration-color: #00af00\">0</span> │\n",
              "├─────────────────────────────────┼────────────────────────┼───────────────┤\n",
              "│ flatten (<span style=\"color: #0087ff; text-decoration-color: #0087ff\">Flatten</span>)               │ (<span style=\"color: #00d7ff; text-decoration-color: #00d7ff\">None</span>, <span style=\"color: #00af00; text-decoration-color: #00af00\">18496</span>)          │             <span style=\"color: #00af00; text-decoration-color: #00af00\">0</span> │\n",
              "├─────────────────────────────────┼────────────────────────┼───────────────┤\n",
              "│ dense (<span style=\"color: #0087ff; text-decoration-color: #0087ff\">Dense</span>)                   │ (<span style=\"color: #00d7ff; text-decoration-color: #00d7ff\">None</span>, <span style=\"color: #00af00; text-decoration-color: #00af00\">200</span>)            │     <span style=\"color: #00af00; text-decoration-color: #00af00\">3,699,400</span> │\n",
              "├─────────────────────────────────┼────────────────────────┼───────────────┤\n",
              "│ dropout (<span style=\"color: #0087ff; text-decoration-color: #0087ff\">Dropout</span>)               │ (<span style=\"color: #00d7ff; text-decoration-color: #00d7ff\">None</span>, <span style=\"color: #00af00; text-decoration-color: #00af00\">200</span>)            │             <span style=\"color: #00af00; text-decoration-color: #00af00\">0</span> │\n",
              "├─────────────────────────────────┼────────────────────────┼───────────────┤\n",
              "│ dense_1 (<span style=\"color: #0087ff; text-decoration-color: #0087ff\">Dense</span>)                 │ (<span style=\"color: #00d7ff; text-decoration-color: #00d7ff\">None</span>, <span style=\"color: #00af00; text-decoration-color: #00af00\">500</span>)            │       <span style=\"color: #00af00; text-decoration-color: #00af00\">100,500</span> │\n",
              "├─────────────────────────────────┼────────────────────────┼───────────────┤\n",
              "│ dropout_1 (<span style=\"color: #0087ff; text-decoration-color: #0087ff\">Dropout</span>)             │ (<span style=\"color: #00d7ff; text-decoration-color: #00d7ff\">None</span>, <span style=\"color: #00af00; text-decoration-color: #00af00\">500</span>)            │             <span style=\"color: #00af00; text-decoration-color: #00af00\">0</span> │\n",
              "├─────────────────────────────────┼────────────────────────┼───────────────┤\n",
              "│ dense_2 (<span style=\"color: #0087ff; text-decoration-color: #0087ff\">Dense</span>)                 │ (<span style=\"color: #00d7ff; text-decoration-color: #00d7ff\">None</span>, <span style=\"color: #00af00; text-decoration-color: #00af00\">4</span>)              │         <span style=\"color: #00af00; text-decoration-color: #00af00\">2,004</span> │\n",
              "└─────────────────────────────────┴────────────────────────┴───────────────┘\n",
              "</pre>\n"
            ]
          },
          "metadata": {}
        },
        {
          "output_type": "display_data",
          "data": {
            "text/plain": [
              "\u001b[1m Total params: \u001b[0m\u001b[38;5;34m3,825,488\u001b[0m (14.59 MB)\n"
            ],
            "text/html": [
              "<pre style=\"white-space:pre;overflow-x:auto;line-height:normal;font-family:Menlo,'DejaVu Sans Mono',consolas,'Courier New',monospace\"><span style=\"font-weight: bold\"> Total params: </span><span style=\"color: #00af00; text-decoration-color: #00af00\">3,825,488</span> (14.59 MB)\n",
              "</pre>\n"
            ]
          },
          "metadata": {}
        },
        {
          "output_type": "display_data",
          "data": {
            "text/plain": [
              "\u001b[1m Trainable params: \u001b[0m\u001b[38;5;34m3,825,488\u001b[0m (14.59 MB)\n"
            ],
            "text/html": [
              "<pre style=\"white-space:pre;overflow-x:auto;line-height:normal;font-family:Menlo,'DejaVu Sans Mono',consolas,'Courier New',monospace\"><span style=\"font-weight: bold\"> Trainable params: </span><span style=\"color: #00af00; text-decoration-color: #00af00\">3,825,488</span> (14.59 MB)\n",
              "</pre>\n"
            ]
          },
          "metadata": {}
        },
        {
          "output_type": "display_data",
          "data": {
            "text/plain": [
              "\u001b[1m Non-trainable params: \u001b[0m\u001b[38;5;34m0\u001b[0m (0.00 B)\n"
            ],
            "text/html": [
              "<pre style=\"white-space:pre;overflow-x:auto;line-height:normal;font-family:Menlo,'DejaVu Sans Mono',consolas,'Courier New',monospace\"><span style=\"font-weight: bold\"> Non-trainable params: </span><span style=\"color: #00af00; text-decoration-color: #00af00\">0</span> (0.00 B)\n",
              "</pre>\n"
            ]
          },
          "metadata": {}
        }
      ],
      "source": [
        "# Menampilkan ringkasan arsitektur model yang berisi informasi tentang jumlah lapisan dan parameternya\n",
        "model.summary()"
      ]
    },
    {
      "cell_type": "code",
      "execution_count": 16,
      "metadata": {
        "id": "iFCP42J287-N"
      },
      "outputs": [],
      "source": [
        "# Mengompilasi model dengan fungsi loss, optimizer, dan metrik yang dipilih\n",
        "model.compile(\n",
        "    loss = 'categorical_crossentropy',\n",
        "    optimizer = 'Adam',\n",
        "    metrics = ['accuracy']\n",
        ")"
      ]
    },
    {
      "cell_type": "code",
      "execution_count": null,
      "metadata": {
        "id": "sTIcMRqW8_Jb"
      },
      "outputs": [],
      "source": [
        "# Melatih model dengan data latih dan validasi selama 25 epoch\n",
        "history = model.fit(\n",
        "    train_generator,                     # Data latih dengan augmentasi\n",
        "    steps_per_epoch = 10,  # Jumlah batch otomatis dari generator\n",
        "    epochs = 25,                         # Jumlah epoch pelatihan\n",
        "    validation_data = val_generator,     # Data validasi\n",
        "    validation_steps = 10,  # Jumlah batch validasi otomatis\n",
        "    verbose = 1,                         # Menampilkan progress\n",
        "    callbacks = [callback]               # Callback (misalnya EarlyStopping atau ModelCheckpoint)\n",
        ")"
      ]
    },
    {
      "cell_type": "code",
      "execution_count": 46,
      "metadata": {
        "id": "qZMblKF2_oxg",
        "colab": {
          "base_uri": "https://localhost:8080/",
          "height": 887
        },
        "outputId": "6e86dbdc-8068-4298-9dc1-bc1a6ccd80fe"
      },
      "outputs": [
        {
          "output_type": "display_data",
          "data": {
            "text/plain": [
              "<Figure size 640x480 with 1 Axes>"
            ],
            "image/png": "[encoded data removed]"
          },
          "metadata": {}
        },
        {
          "output_type": "display_data",
          "data": {
            "text/plain": [
              "<Figure size 640x480 with 1 Axes>"
            ],
            "image/png": "[encoded data removed]"
          },
          "metadata": {}
        }
      ],
      "source": [
        "# Mengimpor library untuk menampilkan gambar dan grafik\n",
        "%matplotlib inline\n",
        "import matplotlib.image as mpimg\n",
        "import matplotlib.pyplot as plt\n",
        "\n",
        "# Mengambil data akurasi dan loss dari hasil pelatihan model\n",
        "acc = history.history['accuracy']        # Akurasi pelatihan\n",
        "val_acc = history.history['val_accuracy'] # Akurasi validasi\n",
        "loss = history.history['loss']           # Loss pelatihan\n",
        "val_loss = history.history['val_loss']   # Loss validasi\n",
        "\n",
        "# Mendapatkan jumlah epoch\n",
        "epochs = range(len(acc))\n",
        "\n",
        "# Membuat grafik akurasi pelatihan dan validasi\n",
        "plt.plot(epochs, acc, 'r', label='Training accuracy')\n",
        "plt.plot(epochs, val_acc, 'b', label='Validation accuracy')\n",
        "plt.title('Training and validation accuracy') # Judul grafik akurasi\n",
        "plt.legend(loc = 'best')  # Menampilkan legenda\n",
        "plt.show()  # Menampilkan grafik\n",
        "\n",
        "# Membuat grafik loss pelatihan dan validasi\n",
        "plt.plot(epochs, loss, 'r', label='Training loss')\n",
        "plt.plot(epochs, val_loss, 'b', label='Validation loss')\n",
        "plt.title('Training and validation loss')  # Judul grafik loss\n",
        "plt.legend(loc = 'best')  # Menampilkan legenda\n",
        "plt.show()  # Menampilkan grafik"
      ]
    },
    {
      "cell_type": "code",
      "execution_count": null,
      "metadata": {
        "collapsed": true,
        "id": "dVK1dJOT_1JE",
        "colab": {
          "base_uri": "https://localhost:8080/",
          "height": 38
        },
        "outputId": "2c17d55d-9cf7-42b5-ac2b-642ed68c0010"
      },
      "outputs": [
        {
          "output_type": "display_data",
          "data": {
            "text/plain": [
              "<IPython.core.display.HTML object>"
            ],
            "text/html": [
              "\n",
              "     <input type=\"file\" id=\"files-2457bb19-17e2-4334-8de2-97c12dfae0e2\" name=\"files[]\" multiple disabled\n",
              "        style=\"border:none\" />\n",
              "     <output id=\"result-2457bb19-17e2-4334-8de2-97c12dfae0e2\">\n",
              "      Upload widget is only available when the cell has been executed in the\n",
              "      current browser session. Please rerun this cell to enable.\n",
              "      </output>\n",
              "      <script>// Copyright 2017 Google LLC\n",
              "//\n",
              "// Licensed under the Apache License, Version 2.0 (the \"License\");\n",
              "// you may not use this file except in compliance with the License.\n",
              "// You may obtain a copy of the License at\n",
              "//\n",
              "//      http://www.apache.org/licenses/LICENSE-2.0\n",
              "//\n",
              "// Unless required by applicable law or agreed to in writing, software\n",
              "// distributed under the License is distributed on an \"AS IS\" BASIS,\n",
              "// WITHOUT WARRANTIES OR CONDITIONS OF ANY KIND, either express or implied.\n",
              "// See the License for the specific language governing permissions and\n",
              "// limitations under the License.\n",
              "\n",
              "/**\n",
              " * @fileoverview Helpers for google.colab Python module.\n",
              " */\n",
              "(function(scope) {\n",
              "function span(text, styleAttributes = {}) {\n",
              "  const element = document.createElement('span');\n",
              "  element.textContent = text;\n",
              "  for (const key of Object.keys(styleAttributes)) {\n",
              "    element.style[key] = styleAttributes[key];\n",
              "  }\n",
              "  return element;\n",
              "}\n",
              "\n",
              "// Max number of bytes which will be uploaded at a time.\n",
              "const MAX_PAYLOAD_SIZE = 100 * 1024;\n",
              "\n",
              "function _uploadFiles(inputId, outputId) {\n",
              "  const steps = uploadFilesStep(inputId, outputId);\n",
              "  const outputElement = document.getElementById(outputId);\n",
              "  // Cache steps on the outputElement to make it available for the next call\n",
              "  // to uploadFilesContinue from Python.\n",
              "  outputElement.steps = steps;\n",
              "\n",
              "  return _uploadFilesContinue(outputId);\n",
              "}\n",
              "\n",
              "// This is roughly an async generator (not supported in the browser yet),\n",
              "// where there are multiple asynchronous steps and the Python side is going\n",
              "// to poll for completion of each step.\n",
              "// This uses a Promise to block the python side on completion of each step,\n",
              "// then passes the result of the previous step as the input to the next step.\n",
              "function _uploadFilesContinue(outputId) {\n",
              "  const outputElement = document.getElementById(outputId);\n",
              "  const steps = outputElement.steps;\n",
              "\n",
              "  const next = steps.next(outputElement.lastPromiseValue);\n",
              "  return Promise.resolve(next.value.promise).then((value) => {\n",
              "    // Cache the last promise value to make it available to the next\n",
              "    // step of the generator.\n",
              "    outputElement.lastPromiseValue = value;\n",
              "    return next.value.response;\n",
              "  });\n",
              "}\n",
              "\n",
              "/**\n",
              " * Generator function which is called between each async step of the upload\n",
              " * process.\n",
              " * @param {string} inputId Element ID of the input file picker element.\n",
              " * @param {string} outputId Element ID of the output display.\n",
              " * @return {!Iterable<!Object>} Iterable of next steps.\n",
              " */\n",
              "function* uploadFilesStep(inputId, outputId) {\n",
              "  const inputElement = document.getElementById(inputId);\n",
              "  inputElement.disabled = false;\n",
              "\n",
              "  const outputElement = document.getElementById(outputId);\n",
              "  outputElement.innerHTML = '';\n",
              "\n",
              "  const pickedPromise = new Promise((resolve) => {\n",
              "    inputElement.addEventListener('change', (e) => {\n",
              "      resolve(e.target.files);\n",
              "    });\n",
              "  });\n",
              "\n",
              "  const cancel = document.createElement('button');\n",
              "  inputElement.parentElement.appendChild(cancel);\n",
              "  cancel.textContent = 'Cancel upload';\n",
              "  const cancelPromise = new Promise((resolve) => {\n",
              "    cancel.onclick = () => {\n",
              "      resolve(null);\n",
              "    };\n",
              "  });\n",
              "\n",
              "  // Wait for the user to pick the files.\n",
              "  const files = yield {\n",
              "    promise: Promise.race([pickedPromise, cancelPromise]),\n",
              "    response: {\n",
              "      action: 'starting',\n",
              "    }\n",
              "  };\n",
              "\n",
              "  cancel.remove();\n",
              "\n",
              "  // Disable the input element since further picks are not allowed.\n",
              "  inputElement.disabled = true;\n",
              "\n",
              "  if (!files) {\n",
              "    return {\n",
              "      response: {\n",
              "        action: 'complete',\n",
              "      }\n",
              "    };\n",
              "  }\n",
              "\n",
              "  for (const file of files) {\n",
              "    const li = document.createElement('li');\n",
              "    li.append(span(file.name, {fontWeight: 'bold'}));\n",
              "    li.append(span(\n",
              "        `(${file.type || 'n/a'}) - ${file.size} bytes, ` +\n",
              "        `last modified: ${\n",
              "            file.lastModifiedDate ? file.lastModifiedDate.toLocaleDateString() :\n",
              "                                    'n/a'} - `));\n",
              "    const percent = span('0% done');\n",
              "    li.appendChild(percent);\n",
              "\n",
              "    outputElement.appendChild(li);\n",
              "\n",
              "    const fileDataPromise = new Promise((resolve) => {\n",
              "      const reader = new FileReader();\n",
              "      reader.onload = (e) => {\n",
              "        resolve(e.target.result);\n",
              "      };\n",
              "      reader.readAsArrayBuffer(file);\n",
              "    });\n",
              "    // Wait for the data to be ready.\n",
              "    let fileData = yield {\n",
              "      promise: fileDataPromise,\n",
              "      response: {\n",
              "        action: 'continue',\n",
              "      }\n",
              "    };\n",
              "\n",
              "    // Use a chunked sending to avoid message size limits. See b/62115660.\n",
              "    let position = 0;\n",
              "    do {\n",
              "      const length = Math.min(fileData.byteLength - position, MAX_PAYLOAD_SIZE);\n",
              "      const chunk = new Uint8Array(fileData, position, length);\n",
              "      position += length;\n",
              "\n",
              "      const base64 = btoa(String.fromCharCode.apply(null, chunk));\n",
              "      yield {\n",
              "        response: {\n",
              "          action: 'append',\n",
              "          file: file.name,\n",
              "          data: base64,\n",
              "        },\n",
              "      };\n",
              "\n",
              "      let percentDone = fileData.byteLength === 0 ?\n",
              "          100 :\n",
              "          Math.round((position / fileData.byteLength) * 100);\n",
              "      percent.textContent = `${percentDone}% done`;\n",
              "\n",
              "    } while (position < fileData.byteLength);\n",
              "  }\n",
              "\n",
              "  // All done.\n",
              "  yield {\n",
              "    response: {\n",
              "      action: 'complete',\n",
              "    }\n",
              "  };\n",
              "}\n",
              "\n",
              "scope.google = scope.google || {};\n",
              "scope.google.colab = scope.google.colab || {};\n",
              "scope.google.colab._files = {\n",
              "  _uploadFiles,\n",
              "  _uploadFilesContinue,\n",
              "};\n",
              "})(self);\n",
              "</script> "
            ]
          },
          "metadata": {}
        }
      ],
      "source": [
        "import numpy as np\n",
        "from keras.preprocessing import image\n",
        "from google.colab import files\n",
        "import os\n",
        "import matplotlib.pyplot as plt\n",
        "\n",
        "# Mengunggah file gambar yang akan diprediksi\n",
        "uploaded = files.upload()\n",
        "\n",
        "# Buat pembalik class index\n",
        "inv_class_indices = {v: k for k, v in train_generator.class_indices.items()}\n",
        "\n",
        "# Melakukan prediksi untuk setiap gambar yang diunggah\n",
        "for fn in uploaded.keys():\n",
        "    # Memuat gambar dan menampilkannya\n",
        "    path = fn\n",
        "    img = image.load_img(path, target_size=(150, 150))\n",
        "    plt.imshow(img)\n",
        "    plt.axis('off')\n",
        "    plt.show()\n",
        "\n",
        "    # Ubah gambar jadi array dan siapkan untuk prediksi\n",
        "    x = image.img_to_array(img)\n",
        "    x = np.expand_dims(x, axis=0)\n",
        "    x /= 255.0  # Normalisasi, jika model kamu dilatih dengan data yang dinormalisasi\n",
        "\n",
        "    # Prediksi\n",
        "    prediction = model.predict(x)\n",
        "    predicted_class_index = np.argmax(prediction[0])\n",
        "    predicted_class_label = inv_class_indices[predicted_class_index]\n",
        "\n",
        "    # Tampilkan hasil\n",
        "    print(f\"Nama file: {fn}\")\n",
        "    print(f\"This image belongs to class: {predicted_class_label}\")"
      ]
    }
  ],
  "metadata": {
    "colab": {
      "provenance": []
    },
    "kernelspec": {
      "display_name": "Python 3",
      "name": "python3"
    },
    "language_info": {
      "name": "python"
    }
  },
  "nbformat": 4,
  "nbformat_minor": 0
}